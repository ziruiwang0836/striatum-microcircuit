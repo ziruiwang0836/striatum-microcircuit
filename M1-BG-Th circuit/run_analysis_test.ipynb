{
 "cells": [
  {
   "cell_type": "code",
   "execution_count": null,
   "metadata": {},
   "outputs": [],
   "source": [
    "import numpy as np\n",
    "from scipy.signal import hilbert, butter, filtfilt\n",
    "import matplotlib.pyplot as plt"
   ]
  },
  {
   "cell_type": "code",
   "execution_count": null,
   "metadata": {},
   "outputs": [],
   "source": [
    "def signal_filt(data, fs, lowcut, highcut):\n",
    "    nyquist = 0.5 * fs\n",
    "    low = lowcut / nyquist\n",
    "    high = highcut / nyquist\n",
    "    b, a = butter(2, [low, high], btype='band')\n",
    "    filtered_data = filtfilt(b, a, data)\n",
    "    return filtered_data"
   ]
  },
  {
   "cell_type": "code",
   "execution_count": null,
   "metadata": {},
   "outputs": [],
   "source": [
    "def cal_mi(lfp_amp, lfp_pha, PhaseFreqVector, AmpFreqVector, PhaseFreq_BandWidth, AmpFreq_BandWidth, fs):\n",
    "    # Define phase bins\n",
    "    data_length = len(lfp_amp)\n",
    "    nbin = 18  # number of phase bins\n",
    "    position = np.zeros(nbin)  # this variable will get the beginning (not the center) of each phase bin (in rads)\n",
    "    winsize = 2 * np.pi / nbin\n",
    "    for j in range(nbin):\n",
    "        position[j] = -np.pi + j * winsize\n",
    "\n",
    "    # Filtering and Hilbert transform\n",
    "    Comodulogram = np.zeros((len(PhaseFreqVector), len(AmpFreqVector)), dtype=np.float32)\n",
    "    AmpFreqTransformed = np.zeros((len(AmpFreqVector), data_length))\n",
    "    PhaseFreqTransformed = np.zeros((len(PhaseFreqVector), data_length))\n",
    "\n",
    "    # Amplitude filtering and Hilbert transform\n",
    "    for ii, Af1 in enumerate(AmpFreqVector):\n",
    "        Af2 = Af1 + AmpFreq_BandWidth\n",
    "        AmpFreq = signal_filt(lfp_amp, fs, Af1, Af2)\n",
    "        AmpFreqTransformed[ii, :] = np.abs(hilbert(AmpFreq))\n",
    "\n",
    "    # Phase filtering and Hilbert transform\n",
    "    for jj, Pf1 in enumerate(PhaseFreqVector):\n",
    "        Pf2 = Pf1 + PhaseFreq_BandWidth\n",
    "        PhaseFreq = signal_filt(lfp_pha, fs, Pf1, Pf2)\n",
    "        PhaseFreqTransformed[jj, :] = np.angle(hilbert(PhaseFreq))"
   ]
  }
 ],
 "metadata": {
  "language_info": {
   "name": "python"
  }
 },
 "nbformat": 4,
 "nbformat_minor": 2
}
