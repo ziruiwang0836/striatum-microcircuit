{
 "cells": [
  {
   "cell_type": "code",
   "execution_count": 18,
   "metadata": {},
   "outputs": [],
   "source": [
    "import numpy as np\n",
    "from scipy.signal import hilbert, butter, filtfilt\n",
    "import matplotlib.pyplot as plt"
   ]
  },
  {
   "cell_type": "code",
   "execution_count": 11,
   "metadata": {},
   "outputs": [],
   "source": [
    "with open('test_pd_lfp_data.txt', 'r', encoding='utf-8') as file:\n",
    "    lines = file.readlines()\n",
    "split_data = [line.strip().split('\\t') for line in lines]\n",
    "data = list(zip(*split_data))"
   ]
  },
  {
   "cell_type": "code",
   "execution_count": 22,
   "metadata": {},
   "outputs": [],
   "source": [
    "data_ctx = data[:2]\n",
    "data_str = data[2:4]"
   ]
  },
  {
   "cell_type": "code",
   "execution_count": 15,
   "metadata": {},
   "outputs": [],
   "source": [
    "def signal_filt(data, fs, lowcut, highcut):\n",
    "    nyquist = 0.5 * fs\n",
    "    low = lowcut / nyquist\n",
    "    high = highcut / nyquist\n",
    "    b, a = butter(2, [low, high], btype='band')\n",
    "    filtered_data = filtfilt(b, a, data)\n",
    "    return filtered_data\n",
    "\n",
    "\n",
    "def mod_index_v2(phase, amp, position):\n",
    "    \"\"\"\n",
    "    Compute the modulation index and mean amplitude distribution.\n",
    "\n",
    "    Parameters:\n",
    "    phase (array-like): Phase time series\n",
    "    amp (array-like): Amplitude time series\n",
    "    position (array-like): Phase bins (left boundary)\n",
    "\n",
    "    Returns:\n",
    "    MI (float): Modulation index\n",
    "    mean_amp (numpy.ndarray): Amplitude distribution over phase bins (non-normalized)\n",
    "    \"\"\"\n",
    "    nbin = len(position)\n",
    "    winsize = 2 * np.pi / nbin\n",
    "\n",
    "    # Compute the mean amplitude in each phase bin\n",
    "    mean_amp = np.zeros(nbin)\n",
    "    for j in range(nbin):\n",
    "        I = np.where((phase < position[j] + winsize) & (phase >= position[j]))[0]\n",
    "        mean_amp[j] = np.mean(amp[I])\n",
    "\n",
    "    # Calculate the modulation index using normalized entropy\n",
    "    p = mean_amp / np.sum(mean_amp)\n",
    "    entropy = -np.sum(p * np.log(p))\n",
    "    MI = (np.log(nbin) - entropy) / np.log(nbin)\n",
    "\n",
    "    return MI, mean_amp\n"
   ]
  },
  {
   "cell_type": "code",
   "execution_count": 20,
   "metadata": {},
   "outputs": [],
   "source": [
    "def cal_mi(lfp_amp, lfp_pha, PhaseFreqVector, AmpFreqVector, PhaseFreq_BandWidth, AmpFreq_BandWidth, fs):\n",
    "    # Define phase bins\n",
    "    data_length = len(lfp_amp)\n",
    "    nbin = 18  # number of phase bins\n",
    "    position = np.zeros(nbin)  # this variable will get the beginning (not the center) of each phase bin (in rads)\n",
    "    winsize = 2 * np.pi / nbin\n",
    "    for j in range(nbin):\n",
    "        position[j] = -np.pi + j * winsize\n",
    "\n",
    "    # Filtering and Hilbert transform\n",
    "    Comodulogram = np.zeros((len(PhaseFreqVector), len(AmpFreqVector)), dtype=np.float32)\n",
    "    AmpFreqTransformed = np.zeros((len(AmpFreqVector), data_length))\n",
    "    PhaseFreqTransformed = np.zeros((len(PhaseFreqVector), data_length))\n",
    "\n",
    "    # Amplitude filtering and Hilbert transform\n",
    "    for ii, Af1 in enumerate(AmpFreqVector):\n",
    "        Af2 = Af1 + AmpFreq_BandWidth\n",
    "        AmpFreq = signal_filt(lfp_amp, fs, Af1, Af2)\n",
    "        AmpFreqTransformed[ii, :] = np.abs(hilbert(AmpFreq))\n",
    "\n",
    "    # Phase filtering and Hilbert transform\n",
    "    for jj, Pf1 in enumerate(PhaseFreqVector):\n",
    "        Pf2 = Pf1 + PhaseFreq_BandWidth\n",
    "        PhaseFreq = signal_filt(lfp_pha, fs, Pf1, Pf2)\n",
    "        PhaseFreqTransformed[jj, :] = np.angle(hilbert(PhaseFreq))\n",
    "     \n",
    "    # Initialize Comodulogram matrix\n",
    "    Comodulogram = np.zeros((len(PhaseFreqVector), len(AmpFreqVector)))\n",
    "\n",
    "    # Comodulation loop\n",
    "    for ii in range(len(PhaseFreqVector)):\n",
    "        for jj in range(len(AmpFreqVector)):\n",
    "            MI, MeanAmp = mod_index_v2(PhaseFreqTransformed[ii, :], AmpFreqTransformed[jj, :], position)\n",
    "            Comodulogram[ii, jj] = MI\n",
    "\n",
    "    # Handle NaN values by replacing them with the minimum value in the Comodulogram\n",
    "    #fill_value = np.nanmin(Comodulogram)\n",
    "    #Comodulogram = np.nan_to_num(Comodulogram, nan=fill_value)\n",
    "\n",
    "    return Comodulogram\n",
    "\n",
    "        "
   ]
  },
  {
   "cell_type": "code",
   "execution_count": 21,
   "metadata": {},
   "outputs": [
    {
     "data": {
      "text/plain": [
       "array([], shape=(0, 0), dtype=float64)"
      ]
     },
     "execution_count": 21,
     "metadata": {},
     "output_type": "execute_result"
    }
   ],
   "source": [
    "PhaseFreqVector=np.arange(22,2,50)\n",
    "AmpFreqVector= np.arange(50,5,200)\n",
    "\n",
    "PhaseFreq_BandWidth=2\n",
    "AmpFreq_BandWidth=10\n",
    "\n",
    "fs = 10000\n",
    "\n",
    "cal_mi(data_ctx, data_str, PhaseFreqVector, AmpFreqVector, PhaseFreq_BandWidth, AmpFreq_BandWidth, fs)"
   ]
  }
 ],
 "metadata": {
  "kernelspec": {
   "display_name": "nest",
   "language": "python",
   "name": "python3"
  },
  "language_info": {
   "codemirror_mode": {
    "name": "ipython",
    "version": 3
   },
   "file_extension": ".py",
   "mimetype": "text/x-python",
   "name": "python",
   "nbconvert_exporter": "python",
   "pygments_lexer": "ipython3",
   "version": "3.12.5"
  }
 },
 "nbformat": 4,
 "nbformat_minor": 2
}
