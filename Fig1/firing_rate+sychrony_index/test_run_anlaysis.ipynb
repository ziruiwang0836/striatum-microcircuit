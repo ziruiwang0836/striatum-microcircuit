{
 "cells": [
  {
   "cell_type": "code",
   "execution_count": 1,
   "metadata": {},
   "outputs": [
    {
     "name": "stdout",
     "output_type": "stream",
     "text": [
      "\n",
      "              -- N E S T --\n",
      "  Copyright (C) 2004 The NEST Initiative\n",
      "\n",
      " Version: 3.8.0\n",
      " Built: Aug  5 2024 04:47:19\n",
      "\n",
      " This program is provided AS IS and comes with\n",
      " NO WARRANTY. See the file LICENSE for details.\n",
      "\n",
      " Problems or suggestions?\n",
      "   Visit https://www.nest-simulator.org\n",
      "\n",
      " Type 'nest.help()' to find out more about NEST.\n",
      "\n"
     ]
    }
   ],
   "source": [
    "from NeuroTools.parameters import ParameterSet\n",
    "from NeuroTools.parameters import ParameterRange\n",
    "from NeuroTools.parameters import ParameterSpace\n",
    "import numpy as np\n",
    "import striatum as st\n",
    "import params_control as sham\n",
    "import params_pd as pd\n",
    "import params_pd_GluInh as pdr\n",
    "import params_control_Glu as glu\n",
    "import nest\n",
    "import matplotlib.pyplot as plt\n",
    "import pandas as pds\n",
    "import os\n",
    "import pickle"
   ]
  },
  {
   "cell_type": "code",
   "execution_count": 14,
   "metadata": {},
   "outputs": [],
   "source": [
    "output_dir = '/Users/peirui/code/striatum-microcircuit/Fig1/output/'\n",
    "os.makedirs(output_dir, exist_ok=True)\n",
    "#run simualation\n",
    "def run_simulation(sim_num,parms):\n",
    "    for i in range(1,sim_num+1):\n",
    "        nest.ResetKernel()\n",
    "        id = i\n",
    "        st.run(parms.get_parameters(),id,output_dir)"
   ]
  },
  {
   "cell_type": "code",
   "execution_count": 15,
   "metadata": {},
   "outputs": [],
   "source": [
    "#run_simulation(3,sham)\n",
    "#run_simulation(3,pd)\n",
    "run_simulation(3,pdr)\n",
    "#run_simulation(3,glu)"
   ]
  },
  {
   "cell_type": "code",
   "execution_count": 2,
   "metadata": {},
   "outputs": [],
   "source": [
    "def load_data(parms_set,output_dir):\n",
    "    '''\n",
    "    load pickle data and organize into dict\n",
    "    parms_set: different types of parameters sets \n",
    "    Control;PD;PD_GluInh';Ctl_Glu\n",
    "    '''\n",
    "    data_dict_spk = {'ts_d1': [], 'ts_d2': []}\n",
    "    data_dict_lfp = {\n",
    "        'd1_times': [], 'd1_g_ex': [], 'd1_g_in': [], 'd1_V_m': [],\n",
    "        'd2_times': [], 'd2_g_ex': [], 'd2_g_in': [], 'd2_V_m': []\n",
    "    }\n",
    "    # Load and process the output\n",
    "    for filename in os.listdir(output_dir):\n",
    "        char = filename.split('_')\n",
    "        if char[1]==parms_set:\n",
    "            category, subtype = char[0], char[3]\n",
    "            filepath = os.path.join(output_dir, filename)\n",
    "\n",
    "            # Load the pickle file\n",
    "            with open(filepath, \"rb\") as file:\n",
    "                evs = pickle.load(file)\n",
    "\n",
    "            # Process 'spk' data\n",
    "            if category == 'spk' and subtype in ['d1', 'd2']:\n",
    "                ts = evs['events']['times']\n",
    "                data_dict_spk[f'ts_{subtype}'].append(ts)\n",
    "\n",
    "            # Process 'lfp' data\n",
    "            if category == 'lfp' and subtype in ['d1', 'd2']:\n",
    "                for key in ['times', 'g_ex', 'g_in', 'V_m']:\n",
    "                    data_dict_lfp[f'{subtype}_{key}'].append(evs[key])\n",
    "    return data_dict_spk,data_dict_lfp"
   ]
  },
  {
   "cell_type": "code",
   "execution_count": 4,
   "metadata": {},
   "outputs": [],
   "source": [
    "def proecess_data_spk_firing(data_dict_spk,start_time,end_time,msn_size):\n",
    " '''\n",
    " Calculate the mean firing rate of D1 and D2 MSNs.\n",
    "    \n",
    "  Parameters:\n",
    "  data_dict_spk (dict): Dictionary containing spike times for D1 and D2 neurons.\n",
    "  start_time (float): Start time in seconds for calculating the firing rate.\n",
    "  end_time (float): End time in seconds for calculating the firing rate.\n",
    "  msn_size (int): Number of neurons in each population (D1 or D2).\n",
    "  \n",
    "  Returns:\n",
    "  tuple: Two lists containing the mean firing rates for D1 and D2 neurons.\n",
    " '''\n",
    " \n",
    " # Calculate the mean firing rate of D1,D2and FSI populations\n",
    " d1_firing=[]\n",
    " d2_firing=[]\n",
    "\n",
    " duration_secs = float(end_time - start_time)\n",
    " start_ms = start_time * 1000\n",
    " end_ms = end_time * 1000\n",
    " for key, spike_times in data_dict_spk.items():\n",
    "    \n",
    "    spikes_in_window = [np.sum((spk_times > start_ms) & (spk_times < end_ms)) for spk_times in spike_times]\n",
    "    firing_rate = [spk_in_window/ duration_secs / float(msn_size) for spk_in_window in spikes_in_window]\n",
    "\n",
    "    if key.split('_')[1] == 'd1':\n",
    "        d1_firing.append(firing_rate)\n",
    "    elif key.split('_')[1] == 'd2':\n",
    "        d2_firing.append(firing_rate)\n",
    "\n",
    " return d1_firing[0], d2_firing[0]\n",
    "\n"
   ]
  },
  {
   "cell_type": "code",
   "execution_count": 5,
   "metadata": {},
   "outputs": [],
   "source": [
    "def process_data_spk_synchrony_index(data_dict_spk,start_time,end_time):\n",
    "    \n",
    "    syn_inx_d1 = []\n",
    "    syn_inx_d2 = []\n",
    "    start_ms = int(start_time * 1000)\n",
    "    end_ms = int(end_time * 1000)\n",
    "\n",
    "    for key, spike_times_list in data_dict_spk.items():\n",
    "        # Loop through each neuron's spike times\n",
    "        for spk_times in spike_times_list:\n",
    "            count_list = []\n",
    "            \n",
    "            # Calculate spike counts in 5 ms bins\n",
    "            for i in range(start_ms, end_ms, 5):\n",
    "                count = np.sum((spk_times > i) & (spk_times <= i + 5))\n",
    "                count_list.append(count)\n",
    "            \n",
    "            # Calculate the synchrony index as variance/mean of spike counts\n",
    "            mean_count = np.mean(count_list)\n",
    "            var_count = np.var(count_list)\n",
    "            synchrony_index = var_count / mean_count if mean_count > 0 else 0\n",
    "        \n",
    "            if key.split('_')[1] == 'd1':\n",
    "                syn_inx_d1.append(synchrony_index)\n",
    "            elif key.split('_')[1] == 'd2':\n",
    "                syn_inx_d2.append(synchrony_index)\n",
    "\n",
    "    return syn_inx_d1, syn_inx_d2"
   ]
  },
  {
   "cell_type": "code",
   "execution_count": 11,
   "metadata": {},
   "outputs": [],
   "source": [
    "data_dict_spk_ctl,data_dict_lfp_ctl = load_data('Control',output_dir)\n",
    "data_dict_spk_pd,data_dict_lfp_pd = load_data('PD',output_dir)\n",
    "data_dict_spk_pdr,data_dict_lfp_pdr = load_data('PD_GluInh',output_dir)\n",
    "data_dict_spk_glu,data_dict_lfp_glu = load_data('Ctl_Glu',output_dir)"
   ]
  },
  {
   "cell_type": "code",
   "execution_count": 13,
   "metadata": {},
   "outputs": [
    {
     "data": {
      "text/plain": [
       "[]"
      ]
     },
     "execution_count": 13,
     "metadata": {},
     "output_type": "execute_result"
    }
   ],
   "source": [
    "data_dict_spk_pdr['ts_d2']"
   ]
  },
  {
   "cell_type": "code",
   "execution_count": 89,
   "metadata": {},
   "outputs": [],
   "source": [
    "d1_firing_ctl,d2_firing_ctl = proecess_data_spk_firing(data_dict_spk_ctl,0.2,1.2,2000)\n",
    "d1_firing_pd,d2_firing_pd = proecess_data_spk_firing(data_dict_spk_pd,0.2,1.2,2000)\n",
    "d1_firing_pdr,d2_firing_pdr = proecess_data_spk_firing(data_dict_spk_pdr,0.2,1.2,2000)\n",
    "d1_firing_glu,d2_firing_glu = proecess_data_spk_firing(data_dict_spk_glu,0.2,1.2,2000)"
   ]
  },
  {
   "cell_type": "code",
   "execution_count": 96,
   "metadata": {},
   "outputs": [
    {
     "data": {
      "text/plain": [
       "[]"
      ]
     },
     "execution_count": 96,
     "metadata": {},
     "output_type": "execute_result"
    }
   ],
   "source": [
    "data_dict_spk_pdr['ts_d1']"
   ]
  },
  {
   "cell_type": "code",
   "execution_count": 94,
   "metadata": {},
   "outputs": [
    {
     "name": "stderr",
     "output_type": "stream",
     "text": [
      "/Users/peirui/miniconda3/envs/nest/lib/python3.12/site-packages/numpy/_core/fromnumeric.py:3596: RuntimeWarning:Mean of empty slice.\n",
      "/Users/peirui/miniconda3/envs/nest/lib/python3.12/site-packages/numpy/_core/_methods.py:138: RuntimeWarning:invalid value encountered in scalar divide\n"
     ]
    },
    {
     "data": {
      "image/png": "[encoded data removed]",
      "text/plain": [
       "<Figure size 640x480 with 1 Axes>"
      ]
     },
     "metadata": {},
     "output_type": "display_data"
    }
   ],
   "source": [
    "import numpy as np\n",
    "import matplotlib.pyplot as plt\n",
    "\n",
    "# Assuming d1_firing_* and d2_firing_* are lists of firing rates\n",
    "# Calculate means\n",
    "mean_d1_ctl = np.mean(d1_firing_ctl)\n",
    "mean_d2_ctl = np.mean(d2_firing_ctl)\n",
    "\n",
    "mean_d1_glu = np.mean(d1_firing_glu)\n",
    "mean_d2_glu = np.mean(d2_firing_glu)\n",
    "\n",
    "mean_d1_pd = np.mean(d1_firing_pd)\n",
    "mean_d2_pd = np.mean(d2_firing_pd)\n",
    "\n",
    "mean_d1_pdr = np.mean(d1_firing_pdr)\n",
    "mean_d2_pdr = np.mean(d2_firing_pdr)\n",
    "\n",
    "# Data for bar chart\n",
    "labels = ['Control', 'Control+Glu Exc', 'No DA', 'No DA+Glu Inh']\n",
    "d1_means = [mean_d1_ctl, mean_d1_glu, mean_d1_pd, mean_d1_pdr]\n",
    "d2_means = [mean_d2_ctl, mean_d2_glu, mean_d2_pd, mean_d2_pdr]\n",
    "\n",
    "x = np.arange(len(labels))  # label locations\n",
    "width = 0.35  # width of the bars\n",
    "\n",
    "fig, ax = plt.subplots()\n",
    "rects1 = ax.bar(x - width/2, d1_means, width, label='D1')\n",
    "rects2 = ax.bar(x + width/2, d2_means, width, label='D2')\n",
    "\n",
    "ax.set_ylabel('Frequency (Hz)')\n",
    "ax.set_xticks(x)\n",
    "ax.set_xticklabels(labels)\n",
    "ax.legend()\n",
    "\n",
    "fig.tight_layout()\n",
    "\n",
    "plt.show()\n"
   ]
  }
 ],
 "metadata": {
  "kernelspec": {
   "display_name": "nest",
   "language": "python",
   "name": "python3"
  },
  "language_info": {
   "codemirror_mode": {
    "name": "ipython",
    "version": 3
   },
   "file_extension": ".py",
   "mimetype": "text/x-python",
   "name": "python",
   "nbconvert_exporter": "python",
   "pygments_lexer": "ipython3",
   "version": "3.12.5"
  }
 },
 "nbformat": 4,
 "nbformat_minor": 2
}
